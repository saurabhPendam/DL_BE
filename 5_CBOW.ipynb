{
 "cells": [
  {
   "cell_type": "code",
   "execution_count": 2,
   "id": "6ce5a0f2-0b26-4cc8-aabd-9984eec8f299",
   "metadata": {},
   "outputs": [
    {
     "name": "stdout",
     "output_type": "stream",
     "text": [
      "Requirement already satisfied: np_utils in c:\\users\\saura\\appdata\\local\\programs\\python\\python39\\lib\\site-packages (0.6.0)\n",
      "Requirement already satisfied: numpy>=1.0 in c:\\users\\saura\\appdata\\local\\programs\\python\\python39\\lib\\site-packages (from np_utils) (1.26.2)\n"
     ]
    },
    {
     "name": "stderr",
     "output_type": "stream",
     "text": [
      "WARNING: You are using pip version 20.2.3; however, version 23.3.1 is available.\n",
      "You should consider upgrading via the 'c:\\users\\saura\\appdata\\local\\programs\\python\\python39\\python.exe -m pip install --upgrade pip' command.\n"
     ]
    }
   ],
   "source": [
    "!pip install np_utils"
   ]
  },
  {
   "cell_type": "code",
   "execution_count": 3,
   "id": "86f59aff-6455-4e72-8689-05d68278f2a5",
   "metadata": {},
   "outputs": [],
   "source": [
    "from keras.preprocessing import text\n",
    "from keras.utils import to_categorical  # Fix the import statement\n",
    "from keras.preprocessing.sequence import pad_sequences\n",
    "import numpy as np\n",
    "import pandas as pd"
   ]
  },
  {
   "cell_type": "code",
   "execution_count": 4,
   "id": "88d579f9-79ed-4219-81b5-80a269fa0f1c",
   "metadata": {},
   "outputs": [],
   "source": [
    "# Load the textual document\n",
    "with open('CBOW.txt', 'r') as file:\n",
    "    data = file.read()"
   ]
  },
  {
   "cell_type": "code",
   "execution_count": 5,
   "id": "66ab8037-7797-47aa-930e-5d8c4a8b2043",
   "metadata": {},
   "outputs": [],
   "source": [
    "dl_data = data.split()"
   ]
  },
  {
   "cell_type": "code",
   "execution_count": 11,
   "id": "5e0768ef-e68d-40e7-abce-642e034be8b8",
   "metadata": {},
   "outputs": [
    {
     "name": "stdout",
     "output_type": "stream",
     "text": [
      "Vocabulary Size: 103\n",
      "Vocabulary Sample: [('the', 1), ('of', 2), ('influenza', 3), ('covid', 4), ('19', 5), ('virus', 6), ('for', 7), ('transmission', 8), ('is', 9), ('to', 10)]\n"
     ]
    }
   ],
   "source": [
    "tokenizer = text.Tokenizer()\n",
    "tokenizer.fit_on_texts(dl_data)\n",
    "word2id = tokenizer.word_index\n",
    "\n",
    "word2id['PAD'] = 0\n",
    "id2word = {v: k for k, v in word2id.items()}\n",
    "wids = [[word2id[w] for w in text.text_to_word_sequence(doc)] for doc in dl_data]\n",
    "\n",
    "vocab_size = len(word2id)\n",
    "embed_size = 100  # Adjust the embedding size if needed\n",
    "window_size = 2  # Adjust the window size if needed\n",
    "\n",
    "print('Vocabulary Size:', vocab_size)\n",
    "print('Vocabulary Sample:', list(word2id.items())[:10])"
   ]
  },
  {
   "cell_type": "code",
   "execution_count": 13,
   "id": "3ec566db-ddc6-4c49-802c-299fff8c2da0",
   "metadata": {},
   "outputs": [],
   "source": [
    "def generate_context_word_pairs(corpus, window_size, vocab_size):\n",
    "    context_length = window_size*2\n",
    "    for words in corpus:\n",
    "        sentence_length = len(words)\n",
    "        for index, word in enumerate(words):\n",
    "            context_words = []\n",
    "            label_word   = []\n",
    "            start = index - window_size\n",
    "            end = index + window_size + 1\n",
    "\n",
    "            context_words.append([words[i]\n",
    "                                 for i in range(start, end)\n",
    "                                 if 0 <= i < sentence_length\n",
    "                                 and i != index])\n",
    "            label_word.append(word)\n",
    "\n",
    "            x = pad_sequences(context_words, maxlen=context_length)\n",
    "            y = to_categorical(label_word, vocab_size)\n",
    "            yield (x, y)\n",
    "\n",
    "i = 0\n",
    "for x, y in generate_context_word_pairs(corpus=wids, window_size=window_size, vocab_size=vocab_size):\n",
    "    if 0 not in x[0]:\n",
    "        print('Context (X):', [id2word[w] for w in x[0]], '-> Target (Y):', id2word[np.argwhere(y[0])[0][0]])\n",
    "\n",
    "        if i == 10:\n",
    "            break\n",
    "        i += 1"
   ]
  },
  {
   "cell_type": "code",
   "execution_count": 14,
   "id": "36cec607-b0b5-4755-b5f5-63e5879d7c26",
   "metadata": {},
   "outputs": [
    {
     "name": "stdout",
     "output_type": "stream",
     "text": [
      "WARNING:tensorflow:From c:\\users\\saura\\appdata\\local\\programs\\python\\python39\\lib\\site-packages\\keras\\src\\backend.py:873: The name tf.get_default_graph is deprecated. Please use tf.compat.v1.get_default_graph instead.\n",
      "\n",
      "WARNING:tensorflow:From c:\\users\\saura\\appdata\\local\\programs\\python\\python39\\lib\\site-packages\\keras\\src\\optimizers\\__init__.py:309: The name tf.train.Optimizer is deprecated. Please use tf.compat.v1.train.Optimizer instead.\n",
      "\n",
      "Model: \"sequential\"\n",
      "_________________________________________________________________\n",
      " Layer (type)                Output Shape              Param #   \n",
      "=================================================================\n",
      " embedding (Embedding)       (None, 4, 100)            10300     \n",
      "                                                                 \n",
      " lambda (Lambda)             (None, 100)               0         \n",
      "                                                                 \n",
      " dense (Dense)               (None, 103)               10403     \n",
      "                                                                 \n",
      "=================================================================\n",
      "Total params: 20703 (80.87 KB)\n",
      "Trainable params: 20703 (80.87 KB)\n",
      "Non-trainable params: 0 (0.00 Byte)\n",
      "_________________________________________________________________\n",
      "None\n"
     ]
    }
   ],
   "source": [
    "import keras.backend as K\n",
    "from keras.models import Sequential\n",
    "from keras.layers import Dense, Embedding, Lambda\n",
    "\n",
    "cbow = Sequential()\n",
    "cbow.add(Embedding(input_dim=vocab_size, output_dim=embed_size, input_length=window_size*2))\n",
    "cbow.add(Lambda(lambda x: K.mean(x, axis=1), output_shape=(embed_size,)))\n",
    "cbow.add(Dense(vocab_size, activation='softmax'))\n",
    "cbow.compile(loss='categorical_crossentropy', optimizer='rmsprop')\n",
    "\n",
    "print(cbow.summary())"
   ]
  },
  {
   "cell_type": "code",
   "execution_count": 15,
   "id": "1fe4187b-7231-43d5-8eba-00f0cc494b02",
   "metadata": {},
   "outputs": [
    {
     "name": "stdout",
     "output_type": "stream",
     "text": [
      "WARNING:tensorflow:From c:\\users\\saura\\appdata\\local\\programs\\python\\python39\\lib\\site-packages\\keras\\src\\utils\\tf_utils.py:492: The name tf.ragged.RaggedTensorValue is deprecated. Please use tf.compat.v1.ragged.RaggedTensorValue instead.\n",
      "\n",
      "Epoch: 1 \tLoss: 915.5708479881287\n",
      "\n",
      "Epoch: 2 \tLoss: 893.9244341850281\n",
      "\n",
      "Epoch: 3 \tLoss: 878.7238686084747\n",
      "\n",
      "Epoch: 4 \tLoss: 872.4465320110321\n",
      "\n",
      "Epoch: 5 \tLoss: 868.1396679878235\n",
      "\n"
     ]
    }
   ],
   "source": [
    "for epoch in range(1, 6):\n",
    "    loss = 0.\n",
    "    i = 0\n",
    "    for x, y in generate_context_word_pairs(corpus=wids, window_size=window_size, vocab_size=vocab_size):\n",
    "        i += 1\n",
    "        loss += cbow.train_on_batch(x, y)\n",
    "        if i % 100000 == 0:\n",
    "            print('Processed {} (context, word) pairs'.format(i))\n",
    "\n",
    "    print('Epoch:', epoch, '\\tLoss:', loss)\n",
    "    print()"
   ]
  },
  {
   "cell_type": "code",
   "execution_count": 16,
   "id": "35644176-343a-4144-9b82-1a6e3e1c6fd7",
   "metadata": {},
   "outputs": [
    {
     "name": "stdout",
     "output_type": "stream",
     "text": [
      "(102, 100)\n"
     ]
    },
    {
     "data": {
      "text/html": [
       "<div>\n",
       "<style scoped>\n",
       "    .dataframe tbody tr th:only-of-type {\n",
       "        vertical-align: middle;\n",
       "    }\n",
       "\n",
       "    .dataframe tbody tr th {\n",
       "        vertical-align: top;\n",
       "    }\n",
       "\n",
       "    .dataframe thead th {\n",
       "        text-align: right;\n",
       "    }\n",
       "</style>\n",
       "<table border=\"1\" class=\"dataframe\">\n",
       "  <thead>\n",
       "    <tr style=\"text-align: right;\">\n",
       "      <th></th>\n",
       "      <th>0</th>\n",
       "      <th>1</th>\n",
       "      <th>2</th>\n",
       "      <th>3</th>\n",
       "      <th>4</th>\n",
       "      <th>5</th>\n",
       "      <th>6</th>\n",
       "      <th>7</th>\n",
       "      <th>8</th>\n",
       "      <th>9</th>\n",
       "      <th>...</th>\n",
       "      <th>90</th>\n",
       "      <th>91</th>\n",
       "      <th>92</th>\n",
       "      <th>93</th>\n",
       "      <th>94</th>\n",
       "      <th>95</th>\n",
       "      <th>96</th>\n",
       "      <th>97</th>\n",
       "      <th>98</th>\n",
       "      <th>99</th>\n",
       "    </tr>\n",
       "  </thead>\n",
       "  <tbody>\n",
       "    <tr>\n",
       "      <th>of</th>\n",
       "      <td>-0.034204</td>\n",
       "      <td>0.009385</td>\n",
       "      <td>0.009265</td>\n",
       "      <td>0.035797</td>\n",
       "      <td>-0.045740</td>\n",
       "      <td>-0.046577</td>\n",
       "      <td>-0.025000</td>\n",
       "      <td>0.022489</td>\n",
       "      <td>0.002309</td>\n",
       "      <td>-0.002660</td>\n",
       "      <td>...</td>\n",
       "      <td>0.039882</td>\n",
       "      <td>0.009090</td>\n",
       "      <td>0.029170</td>\n",
       "      <td>0.014789</td>\n",
       "      <td>0.028542</td>\n",
       "      <td>0.049953</td>\n",
       "      <td>-0.012223</td>\n",
       "      <td>0.015091</td>\n",
       "      <td>-0.008936</td>\n",
       "      <td>-0.007734</td>\n",
       "    </tr>\n",
       "    <tr>\n",
       "      <th>influenza</th>\n",
       "      <td>-0.024860</td>\n",
       "      <td>-0.016607</td>\n",
       "      <td>0.015554</td>\n",
       "      <td>0.039862</td>\n",
       "      <td>-0.044827</td>\n",
       "      <td>0.024425</td>\n",
       "      <td>-0.043030</td>\n",
       "      <td>-0.025791</td>\n",
       "      <td>0.015910</td>\n",
       "      <td>-0.016010</td>\n",
       "      <td>...</td>\n",
       "      <td>-0.024955</td>\n",
       "      <td>0.018732</td>\n",
       "      <td>0.045781</td>\n",
       "      <td>-0.016280</td>\n",
       "      <td>-0.001793</td>\n",
       "      <td>-0.006586</td>\n",
       "      <td>-0.020353</td>\n",
       "      <td>-0.038376</td>\n",
       "      <td>0.007897</td>\n",
       "      <td>-0.010935</td>\n",
       "    </tr>\n",
       "    <tr>\n",
       "      <th>covid</th>\n",
       "      <td>-0.042248</td>\n",
       "      <td>-0.019678</td>\n",
       "      <td>0.020309</td>\n",
       "      <td>0.021845</td>\n",
       "      <td>0.017347</td>\n",
       "      <td>-0.009131</td>\n",
       "      <td>-0.005761</td>\n",
       "      <td>0.020527</td>\n",
       "      <td>0.015631</td>\n",
       "      <td>0.031679</td>\n",
       "      <td>...</td>\n",
       "      <td>-0.045620</td>\n",
       "      <td>0.034201</td>\n",
       "      <td>-0.001299</td>\n",
       "      <td>0.000574</td>\n",
       "      <td>0.031591</td>\n",
       "      <td>0.032885</td>\n",
       "      <td>0.020088</td>\n",
       "      <td>0.012573</td>\n",
       "      <td>-0.006289</td>\n",
       "      <td>-0.025572</td>\n",
       "    </tr>\n",
       "    <tr>\n",
       "      <th>19</th>\n",
       "      <td>-0.066115</td>\n",
       "      <td>0.123826</td>\n",
       "      <td>0.113197</td>\n",
       "      <td>-0.127321</td>\n",
       "      <td>-0.075260</td>\n",
       "      <td>0.116692</td>\n",
       "      <td>0.075387</td>\n",
       "      <td>0.124175</td>\n",
       "      <td>0.096808</td>\n",
       "      <td>-0.101364</td>\n",
       "      <td>...</td>\n",
       "      <td>0.047573</td>\n",
       "      <td>-0.123332</td>\n",
       "      <td>-0.084015</td>\n",
       "      <td>-0.106566</td>\n",
       "      <td>0.051843</td>\n",
       "      <td>-0.129446</td>\n",
       "      <td>-0.133348</td>\n",
       "      <td>-0.094530</td>\n",
       "      <td>0.062494</td>\n",
       "      <td>0.124289</td>\n",
       "    </tr>\n",
       "    <tr>\n",
       "      <th>virus</th>\n",
       "      <td>-0.052228</td>\n",
       "      <td>0.103197</td>\n",
       "      <td>0.121841</td>\n",
       "      <td>-0.076764</td>\n",
       "      <td>0.066333</td>\n",
       "      <td>0.101783</td>\n",
       "      <td>0.084140</td>\n",
       "      <td>-0.080516</td>\n",
       "      <td>0.109187</td>\n",
       "      <td>0.042763</td>\n",
       "      <td>...</td>\n",
       "      <td>0.057668</td>\n",
       "      <td>-0.101084</td>\n",
       "      <td>0.086959</td>\n",
       "      <td>0.067987</td>\n",
       "      <td>-0.064813</td>\n",
       "      <td>-0.043414</td>\n",
       "      <td>-0.129842</td>\n",
       "      <td>-0.134527</td>\n",
       "      <td>-0.097154</td>\n",
       "      <td>-0.062610</td>\n",
       "    </tr>\n",
       "  </tbody>\n",
       "</table>\n",
       "<p>5 rows × 100 columns</p>\n",
       "</div>"
      ],
      "text/plain": [
       "                 0         1         2         3         4         5   \\\n",
       "of        -0.034204  0.009385  0.009265  0.035797 -0.045740 -0.046577   \n",
       "influenza -0.024860 -0.016607  0.015554  0.039862 -0.044827  0.024425   \n",
       "covid     -0.042248 -0.019678  0.020309  0.021845  0.017347 -0.009131   \n",
       "19        -0.066115  0.123826  0.113197 -0.127321 -0.075260  0.116692   \n",
       "virus     -0.052228  0.103197  0.121841 -0.076764  0.066333  0.101783   \n",
       "\n",
       "                 6         7         8         9   ...        90        91  \\\n",
       "of        -0.025000  0.022489  0.002309 -0.002660  ...  0.039882  0.009090   \n",
       "influenza -0.043030 -0.025791  0.015910 -0.016010  ... -0.024955  0.018732   \n",
       "covid     -0.005761  0.020527  0.015631  0.031679  ... -0.045620  0.034201   \n",
       "19         0.075387  0.124175  0.096808 -0.101364  ...  0.047573 -0.123332   \n",
       "virus      0.084140 -0.080516  0.109187  0.042763  ...  0.057668 -0.101084   \n",
       "\n",
       "                 92        93        94        95        96        97  \\\n",
       "of         0.029170  0.014789  0.028542  0.049953 -0.012223  0.015091   \n",
       "influenza  0.045781 -0.016280 -0.001793 -0.006586 -0.020353 -0.038376   \n",
       "covid     -0.001299  0.000574  0.031591  0.032885  0.020088  0.012573   \n",
       "19        -0.084015 -0.106566  0.051843 -0.129446 -0.133348 -0.094530   \n",
       "virus      0.086959  0.067987 -0.064813 -0.043414 -0.129842 -0.134527   \n",
       "\n",
       "                 98        99  \n",
       "of        -0.008936 -0.007734  \n",
       "influenza  0.007897 -0.010935  \n",
       "covid     -0.006289 -0.025572  \n",
       "19         0.062494  0.124289  \n",
       "virus     -0.097154 -0.062610  \n",
       "\n",
       "[5 rows x 100 columns]"
      ]
     },
     "execution_count": 16,
     "metadata": {},
     "output_type": "execute_result"
    }
   ],
   "source": [
    "weights = cbow.get_weights()[0]\n",
    "weights = weights[1:]\n",
    "print(weights.shape)\n",
    "\n",
    "pd.DataFrame(weights, index=list(id2word.values())[1:]).head()"
   ]
  },
  {
   "cell_type": "code",
   "execution_count": 18,
   "id": "f02b67e4-21c0-44e1-8081-f30f200ec012",
   "metadata": {},
   "outputs": [
    {
     "name": "stdout",
     "output_type": "stream",
     "text": [
      "(102, 102)\n"
     ]
    },
    {
     "data": {
      "text/plain": [
       "{'of': ['appear', 'spread', 'one', 'symptoms', 'context']}"
      ]
     },
     "execution_count": 18,
     "metadata": {},
     "output_type": "execute_result"
    }
   ],
   "source": [
    "from sklearn.metrics.pairwise import euclidean_distances\n",
    "\n",
    "distance_matrix = euclidean_distances(weights)\n",
    "print(distance_matrix.shape)\n",
    "\n",
    "similar_words = {search_term: [id2word[idx] for idx in distance_matrix[word2id[search_term]-1].argsort()[1:6]+1]\n",
    "                   for search_term in ['of']}\n",
    "\n",
    "similar_words"
   ]
  },
  {
   "cell_type": "code",
   "execution_count": null,
   "id": "d24fb1ae-46ab-4811-a265-e3e6d0956bac",
   "metadata": {},
   "outputs": [],
   "source": []
  }
 ],
 "metadata": {
  "kernelspec": {
   "display_name": "Python 3 (ipykernel)",
   "language": "python",
   "name": "python3"
  },
  "language_info": {
   "codemirror_mode": {
    "name": "ipython",
    "version": 3
   },
   "file_extension": ".py",
   "mimetype": "text/x-python",
   "name": "python",
   "nbconvert_exporter": "python",
   "pygments_lexer": "ipython3",
   "version": "3.9.0"
  }
 },
 "nbformat": 4,
 "nbformat_minor": 5
}
