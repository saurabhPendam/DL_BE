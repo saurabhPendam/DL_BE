{
 "cells": [
  {
   "cell_type": "code",
   "execution_count": 19,
   "id": "35667981-e170-4062-9577-79c53a2f41a3",
   "metadata": {},
   "outputs": [],
   "source": [
    "import tensorflow as tf\n",
    "from tensorflow.keras import layers, models\n",
    "from sklearn.metrics import classification_report\n",
    "from sklearn.preprocessing import LabelBinarizer\n",
    "from sklearn.model_selection import train_test_split\n",
    "import pandas as pd\n",
    "import matplotlib.pyplot as plt"
   ]
  },
  {
   "cell_type": "code",
   "execution_count": 20,
   "id": "5efb53e0-3adc-4375-b828-c6d6e2d4686e",
   "metadata": {},
   "outputs": [],
   "source": [
    "# Load the training data\n",
    "train_data = pd.read_csv('train.csv')\n",
    "X_train = train_data.drop('label', axis=1).values\n",
    "Y_train = train_data['label'].values"
   ]
  },
  {
   "cell_type": "code",
   "execution_count": 21,
   "id": "598b8930-358f-4b54-9fa0-989922974526",
   "metadata": {},
   "outputs": [],
   "source": [
    "# Determine the number of classes dynamically\n",
    "NumClasses = train_data['label'].nunique()"
   ]
  },
  {
   "cell_type": "code",
   "execution_count": 22,
   "id": "dcb33545-ada1-4b20-9d7e-9118ddf65b8e",
   "metadata": {},
   "outputs": [],
   "source": [
    "# Ensure the number of features matches the input shape expected by the model\n",
    "input_shape = X_train.shape[1]"
   ]
  },
  {
   "cell_type": "code",
   "execution_count": 23,
   "id": "d909415f-f796-470d-84b7-962f8abd1db5",
   "metadata": {},
   "outputs": [],
   "source": [
    "# Load the testing data\n",
    "test_data = pd.read_csv('test.csv')\n",
    "X_test = test_data.values  # Use all columns in the testing data"
   ]
  },
  {
   "cell_type": "code",
   "execution_count": 24,
   "id": "c752a9eb-effa-4923-82b1-b3ccabed16ce",
   "metadata": {},
   "outputs": [],
   "source": [
    "# Normalize pixel values to be between 0 and 1\n",
    "X_train = X_train.astype(\"float32\") / 255.0\n",
    "X_test = X_test.astype(\"float32\") / 255.0"
   ]
  },
  {
   "cell_type": "code",
   "execution_count": 25,
   "id": "9a25eff9-0420-4dfa-8c92-b37ba4ca2604",
   "metadata": {},
   "outputs": [],
   "source": [
    "# Ensure the number of features matches the input shape expected by the model\n",
    "if X_test.shape[1] != input_shape:\n",
    "    raise ValueError(f\"Number of features in testing data ({X_test.shape[1]}) does not match the expected input shape ({input_shape}).\")"
   ]
  },
  {
   "cell_type": "code",
   "execution_count": 26,
   "id": "0057657e-f5f8-4d0f-9599-f14b1b55efaf",
   "metadata": {},
   "outputs": [],
   "source": [
    "lb = LabelBinarizer()\n",
    "Y_train = lb.fit_transform(Y_train)"
   ]
  },
  {
   "cell_type": "code",
   "execution_count": 27,
   "id": "04ea6517-19c3-4bdb-bdef-7ee130f8c032",
   "metadata": {},
   "outputs": [],
   "source": [
    "# Reshape the data for CNN input\n",
    "X_train = X_train.reshape(-1, 32, 32, 3)\n",
    "X_test = X_test.reshape(-1, 32, 32, 3)"
   ]
  },
  {
   "cell_type": "code",
   "execution_count": 28,
   "id": "4bf45fae-1547-4600-815e-acdccd7378da",
   "metadata": {},
   "outputs": [],
   "source": [
    "# Split the training data into training and validation sets\n",
    "X_train, X_val, Y_train, Y_val = train_test_split(X_train, Y_train, test_size=0.2, random_state=42)"
   ]
  },
  {
   "cell_type": "code",
   "execution_count": 32,
   "id": "d4da20b1-c415-4ef7-bd25-a56125452ae6",
   "metadata": {},
   "outputs": [
    {
     "name": "stdout",
     "output_type": "stream",
     "text": [
      "Model: \"sequential_2\"\n",
      "_________________________________________________________________\n",
      " Layer (type)                Output Shape              Param #   \n",
      "=================================================================\n",
      " conv2d_6 (Conv2D)           (None, 30, 30, 32)        896       \n",
      "                                                                 \n",
      " max_pooling2d_4 (MaxPoolin  (None, 15, 15, 32)        0         \n",
      " g2D)                                                            \n",
      "                                                                 \n",
      " conv2d_7 (Conv2D)           (None, 13, 13, 64)        18496     \n",
      "                                                                 \n",
      " max_pooling2d_5 (MaxPoolin  (None, 6, 6, 64)          0         \n",
      " g2D)                                                            \n",
      "                                                                 \n",
      " conv2d_8 (Conv2D)           (None, 4, 4, 64)          36928     \n",
      "                                                                 \n",
      " flatten_2 (Flatten)         (None, 1024)              0         \n",
      "                                                                 \n",
      " dense_4 (Dense)             (None, 64)                65600     \n",
      "                                                                 \n",
      " dense_5 (Dense)             (None, 10)                650       \n",
      "                                                                 \n",
      "=================================================================\n",
      "Total params: 122570 (478.79 KB)\n",
      "Trainable params: 122570 (478.79 KB)\n",
      "Non-trainable params: 0 (0.00 Byte)\n",
      "_________________________________________________________________\n"
     ]
    }
   ],
   "source": [
    "# Model definition\n",
    "model = models.Sequential()\n",
    "model.add(layers.Conv2D(32, (3, 3), activation='relu', input_shape=(32, 32, 3)))\n",
    "model.add(layers.MaxPooling2D((2, 2)))\n",
    "model.add(layers.Conv2D(64, (3, 3), activation='relu'))\n",
    "model.add(layers.MaxPooling2D((2, 2)))\n",
    "model.add(layers.Conv2D(64, (3, 3), activation='relu'))\n",
    "model.add(layers.Flatten())\n",
    "model.add(layers.Dense(64, activation='relu'))\n",
    "model.add(layers.Dense(NumClasses, activation='softmax'))\n",
    "model.summary()"
   ]
  },
  {
   "cell_type": "code",
   "execution_count": 33,
   "id": "a4c3d846-a575-47fd-8371-db7cd8dcff7f",
   "metadata": {},
   "outputs": [],
   "source": [
    "model.compile(optimizer='adam',\n",
    "              loss='categorical_crossentropy',\n",
    "              metrics=['accuracy'])"
   ]
  },
  {
   "cell_type": "code",
   "execution_count": 34,
   "id": "5439359e-ba5c-414b-b228-2fb49a7126c1",
   "metadata": {},
   "outputs": [
    {
     "name": "stdout",
     "output_type": "stream",
     "text": [
      "Epoch 1/10\n",
      "WARNING:tensorflow:From c:\\users\\saura\\appdata\\local\\programs\\python\\python39\\lib\\site-packages\\keras\\src\\utils\\tf_utils.py:492: The name tf.ragged.RaggedTensorValue is deprecated. Please use tf.compat.v1.ragged.RaggedTensorValue instead.\n",
      "\n",
      "WARNING:tensorflow:From c:\\users\\saura\\appdata\\local\\programs\\python\\python39\\lib\\site-packages\\keras\\src\\engine\\base_layer_utils.py:384: The name tf.executing_eagerly_outside_functions is deprecated. Please use tf.compat.v1.executing_eagerly_outside_functions instead.\n",
      "\n",
      "1250/1250 [==============================] - 40s 31ms/step - loss: 1.6900 - accuracy: 0.3861 - val_loss: 1.4839 - val_accuracy: 0.4718\n",
      "Epoch 2/10\n",
      "1250/1250 [==============================] - 36s 29ms/step - loss: 1.3900 - accuracy: 0.5046 - val_loss: 1.3325 - val_accuracy: 0.5261\n",
      "Epoch 3/10\n",
      "1250/1250 [==============================] - 39s 31ms/step - loss: 1.2635 - accuracy: 0.5515 - val_loss: 1.2174 - val_accuracy: 0.5731\n",
      "Epoch 4/10\n",
      "1250/1250 [==============================] - 40s 32ms/step - loss: 1.1725 - accuracy: 0.5865 - val_loss: 1.1631 - val_accuracy: 0.5963\n",
      "Epoch 5/10\n",
      "1250/1250 [==============================] - 39s 31ms/step - loss: 1.1033 - accuracy: 0.6111 - val_loss: 1.1534 - val_accuracy: 0.5976\n",
      "Epoch 6/10\n",
      "1250/1250 [==============================] - 39s 32ms/step - loss: 1.0406 - accuracy: 0.6310 - val_loss: 1.1247 - val_accuracy: 0.6131\n",
      "Epoch 7/10\n",
      "1250/1250 [==============================] - 38s 31ms/step - loss: 0.9875 - accuracy: 0.6536 - val_loss: 1.1497 - val_accuracy: 0.6030\n",
      "Epoch 8/10\n",
      "1250/1250 [==============================] - 37s 30ms/step - loss: 0.9420 - accuracy: 0.6682 - val_loss: 1.1510 - val_accuracy: 0.6015\n",
      "Epoch 9/10\n",
      "1250/1250 [==============================] - 37s 30ms/step - loss: 0.9023 - accuracy: 0.6808 - val_loss: 1.1316 - val_accuracy: 0.6110\n",
      "Epoch 10/10\n",
      "1250/1250 [==============================] - 39s 31ms/step - loss: 0.8564 - accuracy: 0.6994 - val_loss: 1.1413 - val_accuracy: 0.6135\n"
     ]
    },
    {
     "data": {
      "text/plain": [
       "<keras.src.callbacks.History at 0x17c997aa280>"
      ]
     },
     "execution_count": 34,
     "metadata": {},
     "output_type": "execute_result"
    }
   ],
   "source": [
    "# Training the model\n",
    "epochs = 10\n",
    "model.fit(X_train, Y_train, epochs=epochs, validation_data=(X_val, Y_val))"
   ]
  },
  {
   "cell_type": "code",
   "execution_count": 37,
   "id": "7c32eed7-7a86-49c6-8d85-5a8a00e975d5",
   "metadata": {},
   "outputs": [
    {
     "name": "stdout",
     "output_type": "stream",
     "text": [
      "313/313 - 2s - loss: 1.1413 - accuracy: 0.6135 - 2s/epoch - 8ms/step\n",
      "\n",
      "Test accuracy:  0.6134999990463257\n",
      "\n",
      "Test Loss:  1.1413075923919678\n"
     ]
    }
   ],
   "source": [
    "test_loss, test_acc = model.evaluate(X_val, Y_val, verbose=2)\n",
    "print('\\nTest accuracy: ', test_acc)\n",
    "print('\\nTest Loss: ',test_loss)"
   ]
  },
  {
   "cell_type": "code",
   "execution_count": null,
   "id": "f7209f07-6528-4c2c-8494-aff1b1ce5cdd",
   "metadata": {},
   "outputs": [],
   "source": []
  }
 ],
 "metadata": {
  "kernelspec": {
   "display_name": "Python 3 (ipykernel)",
   "language": "python",
   "name": "python3"
  },
  "language_info": {
   "codemirror_mode": {
    "name": "ipython",
    "version": 3
   },
   "file_extension": ".py",
   "mimetype": "text/x-python",
   "name": "python",
   "nbconvert_exporter": "python",
   "pygments_lexer": "ipython3",
   "version": "3.9.0"
  }
 },
 "nbformat": 4,
 "nbformat_minor": 5
}
